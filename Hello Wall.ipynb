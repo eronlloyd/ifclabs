{
 "cells": [
  {
   "cell_type": "code",
   "execution_count": 1,
   "id": "4bce59bf-b78d-47d4-b121-5a434ae87a05",
   "metadata": {
    "scrolled": true
   },
   "outputs": [],
   "source": [
    "import ifcopenshell"
   ]
  },
  {
   "cell_type": "code",
   "execution_count": 3,
   "id": "a794824b-6673-4cae-ac9b-c3577e85d155",
   "metadata": {},
   "outputs": [],
   "source": [
    "import ifcopenshell\n",
    "model = ifcopenshell.open('AC20-FZK-Haus.ifc')"
   ]
  },
  {
   "cell_type": "code",
   "execution_count": 4,
   "id": "a62e3de3-6316-42a2-9624-6b271381302c",
   "metadata": {},
   "outputs": [
    {
     "name": "stdout",
     "output_type": "stream",
     "text": [
      "IFC4\n"
     ]
    }
   ],
   "source": [
    "print(model.schema) # May return IFC2X3, IFC4, or IFC4X3."
   ]
  },
  {
   "cell_type": "code",
   "execution_count": 5,
   "id": "9e00b600-e082-4f05-8d08-c8a42d56f157",
   "metadata": {},
   "outputs": [
    {
     "name": "stdout",
     "output_type": "stream",
     "text": [
      "#1=IfcPerson($,'Nicht definiert',$,$,$,$,$,$)\n"
     ]
    }
   ],
   "source": [
    "print(model.by_id(1))"
   ]
  },
  {
   "cell_type": "code",
   "execution_count": 27,
   "id": "5e60c83d-96a4-471e-bd78-a749a5274793",
   "metadata": {},
   "outputs": [],
   "source": [
    "#print(model.by_guid('0EI0MSHbX9gg8Fxwar7lL8'))"
   ]
  },
  {
   "cell_type": "code",
   "execution_count": 7,
   "id": "f252c743-c184-442f-841d-1671974b49bb",
   "metadata": {},
   "outputs": [
    {
     "name": "stdout",
     "output_type": "stream",
     "text": [
      "13\n"
     ]
    }
   ],
   "source": [
    "walls = model.by_type('IfcWall')\n",
    "print(len(walls))"
   ]
  },
  {
   "cell_type": "code",
   "execution_count": 8,
   "id": "ba0392be-24b6-43b0-b7fa-b6c870d5801f",
   "metadata": {},
   "outputs": [
    {
     "name": "stdout",
     "output_type": "stream",
     "text": [
      "IfcWallStandardCase\n"
     ]
    }
   ],
   "source": [
    "wall = model.by_type('IfcWall')[0]\n",
    "print(wall.is_a()) # Returns 'IfcWall'"
   ]
  },
  {
   "cell_type": "code",
   "execution_count": 9,
   "id": "1877b023-475b-4ef9-84a3-2c8eca40a030",
   "metadata": {},
   "outputs": [
    {
     "name": "stdout",
     "output_type": "stream",
     "text": [
      "True\n",
      "True\n",
      "False\n"
     ]
    }
   ],
   "source": [
    "print(wall.is_a('IfcWall')) # Returns True\n",
    "print(wall.is_a('IfcElement')) # Returns True\n",
    "print(wall.is_a('IfcWindow')) # Returns False"
   ]
  },
  {
   "cell_type": "code",
   "execution_count": 10,
   "id": "ee325e2f-adf5-46b9-af9f-abed92f32065",
   "metadata": {},
   "outputs": [
    {
     "name": "stdout",
     "output_type": "stream",
     "text": [
      "15042\n"
     ]
    }
   ],
   "source": [
    "print(wall.id())"
   ]
  },
  {
   "cell_type": "code",
   "execution_count": 11,
   "id": "97464f86-c964-4f1c-b9a9-e142666ef7b0",
   "metadata": {},
   "outputs": [
    {
     "name": "stdout",
     "output_type": "stream",
     "text": [
      "{'id': 15042, 'type': 'IfcWallStandardCase', 'GlobalId': '2XPyKWY018sA1ygZKgQPtU', 'OwnerHistory': #12=IfcOwnerHistory(#7,#11,$,.ADDED.,$,$,$,1482339244), 'Name': 'Wand-Int-ERDG-4', 'Description': None, 'ObjectType': None, 'ObjectPlacement': #14983=IfcLocalPlacement(#477,#14982), 'Representation': #15037=IfcProductDefinitionShape($,$,(#15016,#15024,#15033)), 'Tag': 'BC6F0F70-6195-495E-A2-FC-239713029DB1', 'PredefinedType': None}\n"
     ]
    }
   ],
   "source": [
    "# Gives us a dictionary of attributes, such as:\n",
    "# {'id': 8, 'type': 'IfcWall', 'GlobalId': '2_qMTAIHrEYu0vYcqK8cBX', ... }\n",
    "print(wall.get_info())"
   ]
  },
  {
   "cell_type": "code",
   "execution_count": 12,
   "id": "fe2c3711-a4ab-4bb8-bf2d-5fe88004ad10",
   "metadata": {},
   "outputs": [
    {
     "name": "stdout",
     "output_type": "stream",
     "text": [
      "(#15082=IfcRelDefinesByProperties('1XHlCNqAFH0tlvMzR6N0fY',#12,$,$,(#15042),#15079), #15090=IfcRelDefinesByProperties('28j1CHGQqsg8bOIv_AhSyO',#12,$,$,(#15042),#15087), #15157=IfcRelDefinesByProperties('16oiHR3wk3Xm_oKuvXa7iw',#12,$,$,(#15042),#15124), #15171=IfcRelDefinesByProperties('2rF$g0UZGGPpjaTWxrJdtz',#12,$,$,(#15042),#15169), #15231=IfcRelDefinesByProperties('3Q0nMR5elnJFWzAhgkZqe1',#12,$,$,(#15042),#15229))\n"
     ]
    }
   ],
   "source": [
    "print(wall.IsDefinedBy)"
   ]
  },
  {
   "cell_type": "code",
   "execution_count": 13,
   "id": "e694f78c-d23b-49d8-aabd-facaa86d92a8",
   "metadata": {},
   "outputs": [
    {
     "name": "stdout",
     "output_type": "stream",
     "text": [
      "{#17049=IfcRelConnectsPathElements('1vGdhxc6IUK2fPFUdKXu4r',#12,$,$,$,#17040,#15042,(),(),.ATSTART.,.ATEND.), #15082=IfcRelDefinesByProperties('1XHlCNqAFH0tlvMzR6N0fY',#12,$,$,(#15042),#15079), #15253=IfcRelDefinesByType('05I0_KDnzQTr7CWw5aGQVc',#12,$,$,(#15042,#17040,#18465,#18698,#20598),#15234), #15171=IfcRelDefinesByProperties('2rF$g0UZGGPpjaTWxrJdtz',#12,$,$,(#15042),#15169), #15090=IfcRelDefinesByProperties('28j1CHGQqsg8bOIv_AhSyO',#12,$,$,(#15042),#15087), #15074=IfcRelAssociatesMaterial('0Oybh3lJJ2xSFV6WZ3tS9k',#12,$,$,(#15042),#15072), #15231=IfcRelDefinesByProperties('3Q0nMR5elnJFWzAhgkZqe1',#12,$,$,(#15042),#15229), #77287=IfcRelSpaceBoundary('3GVjzXXdGlJ3KdeRhHKfU_',#12,'2ndLevel','2a',#33774,#15042,#77286,.PHYSICAL.,.INTERNAL.), #15157=IfcRelDefinesByProperties('16oiHR3wk3Xm_oKuvXa7iw',#12,$,$,(#15042),#15124), #14517=IfcRelContainedInSpatialStructure('13J1BKcWxmCqHLM0nJ4nFJ',#12,$,$,(#14502,#15042,#15372,#15848,#16507,#16982,#17040,#17468,#18407,#18465,#18698,#19199,#19504,#20069,#20268,#20299,#20329,#20374,#20598,#20808,#21966,#23024,#23944,#27013,#27421,#27833,#28113,#31079,#31470,#31818,#32098,#32407,#32829,#33109,#33389,#33672,#34509,#35053),#479), #76511=IfcRelSpaceBoundary('0F8DHwVIWaA92A8pankadM',#12,'2ndLevel','2a',#20909,#15042,#76510,.PHYSICAL.,.INTERNAL.), #31484=IfcRelConnectsPathElements('2$XGtUghxM$ohkct50ncKC',#12,$,$,$,#31470,#15042,(),(),.ATEND.,.ATPATH.)}\n"
     ]
    }
   ],
   "source": [
    "print(model.get_inverse(wall))"
   ]
  },
  {
   "cell_type": "code",
   "execution_count": 14,
   "id": "1a8ee19c-21f2-4321-b557-194300018c74",
   "metadata": {},
   "outputs": [
    {
     "name": "stdout",
     "output_type": "stream",
     "text": [
      "[#15042=IfcWallStandardCase('2XPyKWY018sA1ygZKgQPtU',#12,'Wand-Int-ERDG-4',$,$,#14983,#15037,'BC6F0F70-6195-495E-A2-FC-239713029DB1',$), #12=IfcOwnerHistory(#7,#11,$,.ADDED.,$,$,$,1482339244), #7=IfcPersonAndOrganization(#1,#3,$), #1=IfcPerson($,'Nicht definiert',$,$,$,$,$,$), #3=IfcOrganization($,'Nicht definiert',$,$,$), #11=IfcApplication(#10,'20.0.0','ARCHICAD-64','IFC2x3 add-on version: 4009 GER FULL'), #10=IfcOrganization('GS','GRAPHISOFT','GRAPHISOFT',$,$), #14983=IfcLocalPlacement(#477,#14982), #477=IfcLocalPlacement(#432,#476), #432=IfcLocalPlacement(#115,#431), #115=IfcLocalPlacement($,#114), #114=IfcAxis2Placement3D(#112,#110,#108), #112=IfcCartesianPoint((0.,0.,0.)), #110=IfcDirection((0.,0.,1.)), #108=IfcDirection((1.,0.,0.)), #431=IfcAxis2Placement3D(#429,#427,#425), #429=IfcCartesianPoint((0.,0.,0.)), #427=IfcDirection((0.,0.,1.)), #425=IfcDirection((1.,0.,0.)), #476=IfcAxis2Placement3D(#474,#472,#470), #474=IfcCartesianPoint((0.,0.,0.)), #472=IfcDirection((0.,0.,1.)), #470=IfcDirection((1.,0.,0.)), #14982=IfcAxis2Placement3D(#14980,#14978,#14976), #14980=IfcCartesianPoint((7.41,4.25,0.)), #14978=IfcDirection((0.,0.,1.)), #14976=IfcDirection((1.,0.,0.)), #15037=IfcProductDefinitionShape($,$,(#15016,#15024,#15033)), #15016=IfcShapeRepresentation(#118,'Body','SweptSolid',(#15006)), #118=IfcGeometricRepresentationSubContext('Body','Model',*,*,*,*,#62,$,.MODEL_VIEW.,$), #62=IfcGeometricRepresentationContext($,'Model',3,1.E-05,#59,#60), #59=IfcAxis2Placement3D(#57,#55,#51), #57=IfcCartesianPoint((0.,0.,0.)), #55=IfcDirection((0.,0.,1.)), #51=IfcDirection((1.,0.,0.)), #60=IfcDirection((0.766044443119,0.642787609687)), #15006=IfcExtrudedAreaSolid(#14994,#15003,#15004,2.5), #14994=IfcArbitraryClosedProfileDef(.AREA.,'',#14992), #14992=IfcPolyline((#14984,#14986,#14988,#14990,#14984)), #14984=IfcCartesianPoint((0.,-0.24)), #14986=IfcCartesianPoint((4.29,-0.24)), #14988=IfcCartesianPoint((4.29,0.)), #14990=IfcCartesianPoint((0.24,0.)), #15003=IfcAxis2Placement3D(#15001,#14999,#14997), #15001=IfcCartesianPoint((0.,0.,0.)), #14999=IfcDirection((0.,0.,1.)), #14997=IfcDirection((1.,0.,0.)), #15004=IfcDirection((0.,0.,1.)), #15024=IfcShapeRepresentation(#375,'Box','BoundingBox',(#15023)), #375=IfcGeometricRepresentationSubContext('Box','Plan',*,*,*,*,#374,$,.PLAN_VIEW.,$), #374=IfcGeometricRepresentationContext($,'Plan',3,1.E-05,#371,#372), #371=IfcAxis2Placement3D(#369,#367,#365), #369=IfcCartesianPoint((0.,0.,0.)), #367=IfcDirection((0.,0.,1.)), #365=IfcDirection((1.,0.,0.)), #372=IfcDirection((0.766044443119,0.642787609687)), #15023=IfcBoundingBox(#15021,4.29,0.24,2.5), #15021=IfcCartesianPoint((0.,-0.24,0.)), #15033=IfcShapeRepresentation(#15026,'Axis','Curve2D',(#15031)), #15026=IfcGeometricRepresentationSubContext('Axis','Model',*,*,*,*,#62,$,.MODEL_VIEW.,$), #15031=IfcPolyline((#15027,#15029)), #15027=IfcCartesianPoint((0.,0.)), #15029=IfcCartesianPoint((4.59,0.))]\n",
      "[#15042=IfcWallStandardCase('2XPyKWY018sA1ygZKgQPtU',#12,'Wand-Int-ERDG-4',$,$,#14983,#15037,'BC6F0F70-6195-495E-A2-FC-239713029DB1',$), #12=IfcOwnerHistory(#7,#11,$,.ADDED.,$,$,$,1482339244), #14983=IfcLocalPlacement(#477,#14982), #15037=IfcProductDefinitionShape($,$,(#15016,#15024,#15033))]\n"
     ]
    }
   ],
   "source": [
    "print(model.traverse(wall))\n",
    "# Or, let's just go down one level deep\n",
    "print(model.traverse(wall, max_levels=1))"
   ]
  },
  {
   "cell_type": "code",
   "execution_count": 15,
   "id": "b1e50c77-e846-4959-8b92-1ac4dc53f168",
   "metadata": {},
   "outputs": [],
   "source": [
    "wall.Name = 'My new wall name'"
   ]
  },
  {
   "cell_type": "code",
   "execution_count": 16,
   "id": "ecfef063-e0e6-47f6-909e-0aaa5628e0d5",
   "metadata": {},
   "outputs": [
    {
     "data": {
      "text/plain": [
       "#15042=IfcWallStandardCase('2XPyKWY018sA1ygZKgQPtU',#12,'My new wall name',$,$,#14983,#15037,'BC6F0F70-6195-495E-A2-FC-239713029DB1',$)"
      ]
     },
     "execution_count": 16,
     "metadata": {},
     "output_type": "execute_result"
    }
   ],
   "source": [
    "wall"
   ]
  },
  {
   "cell_type": "code",
   "execution_count": 17,
   "id": "d583594b-7cbb-440e-823e-8da9a9282c36",
   "metadata": {},
   "outputs": [],
   "source": [
    "wall.GlobalId = ifcopenshell.guid.new()"
   ]
  },
  {
   "cell_type": "code",
   "execution_count": 18,
   "id": "f69fa18b-8f19-44b2-b04e-37d6504d337a",
   "metadata": {},
   "outputs": [
    {
     "data": {
      "text/plain": [
       "#15042=IfcWallStandardCase('3e_0X7HuD9T8kmCbv4x7Sa',#12,'My new wall name',$,$,#14983,#15037,'BC6F0F70-6195-495E-A2-FC-239713029DB1',$)"
      ]
     },
     "execution_count": 18,
     "metadata": {},
     "output_type": "execute_result"
    }
   ],
   "source": [
    "wall"
   ]
  },
  {
   "cell_type": "code",
   "execution_count": 19,
   "id": "6be3fc80-3aaa-4201-9ae1-b3604d02c182",
   "metadata": {},
   "outputs": [],
   "source": [
    "model.write('new.ifc')"
   ]
  },
  {
   "cell_type": "code",
   "execution_count": 20,
   "id": "b43de9a6-fce4-4821-9613-7a1d56892045",
   "metadata": {},
   "outputs": [],
   "source": [
    "ifc = ifcopenshell.file()\n",
    "# Or if you want a particular schema:\n",
    "ifc = ifcopenshell.file(schema='IFC4')"
   ]
  },
  {
   "cell_type": "code",
   "execution_count": 21,
   "id": "cb6f4340-9eb3-405b-80a4-523adae5d731",
   "metadata": {},
   "outputs": [
    {
     "name": "stdout",
     "output_type": "stream",
     "text": [
      "[#79108=IfcWall($,$,$,$,$,$,$,$,$), #15042=IfcWallStandardCase('3e_0X7HuD9T8kmCbv4x7Sa',#12,'My new wall name',$,$,#14983,#15037,'BC6F0F70-6195-495E-A2-FC-239713029DB1',$), #17040=IfcWallStandardCase('3PfS__Y_DBAfq5naM6zD2Z',#12,'Wand-Int-ERDG-2',$,$,#16993,#17035,'40F78310-9E7E-4793-BC-9E-DB102FD72B73',$), #18465=IfcWallStandardCase('2ptk1k7qn8_Qk22vjh$0DE',#12,'Wand-Int-ERDG-1',$,$,#18418,#18460,'8C826359-B394-49D6-BD-D5-49D50F806B56',$), #18698=IfcWallStandardCase('3jjW3rL656ex34Gws22EfM',#12,'Wand-Int-ERDG-3',$,$,#18651,#18693,'2197C9B9-DEF1-444F-B8-1E-1DB092762AB7',$), #20598=IfcWallStandardCase('1$wmdwWPjDYuku_ghVkynE',#12,'Wand-Int-ERDG-5',$,$,#20551,#20593,'623FF5CC-008F-4D9B-BE-AC-E81A16C53080',$), #21966=IfcWallStandardCase('3rPX_Juz59peXXY6wDJl18',#12,'Wand-Ext-ERDG-1',$,$,#21917,#21961,'BEF1E630-DE4B-41C5-AD-66-B87F1A8D67A1',$), #27421=IfcWallStandardCase('16DNNqzfP2thtfaOflvsKA',#12,'Wand-Ext-ERDG-4',$,$,#27374,#27416,'A6C3DE63-3731-4F6A-94-7E-DE8A8295779F',$), #31470=IfcWallStandardCase('25fsbPyk15VvuXI$yNKenK',#12,'Wand-Ext-ERDG-3',$,$,#31423,#31465,'D1BD94FD-C699-41C5-B0-98-57167561802A',$), #32407=IfcWallStandardCase('1bzfVsJqn8De5PukCrqylz',#12,'Wand-Ext-ERDG-2',$,$,#32360,#32402,'74EAE11D-EA09-459E-92-62-5370AED48E8E',$), #60012=IfcWallStandardCase('0knNIAVBPBFvBy_m5QVHsU',#12,'Wand-Ext-OG-1',$,$,#59911,#60007,'7B65A2FF-2B2E-4F49-B4-A1-7B41CF4110EE',$), #67536=IfcWallStandardCase('25OWQvmXj5BPgyergP43tY',#12,'Wand-Ext-OG-2',$,$,#67479,#67531,'79A3F0D1-59C9-4AE1-9D-6D-772238A0ECC7',$), #67828=IfcWallStandardCase('3VCarUKgH1buLo22Ozxe6J',#12,'Wand-Ext-OG-3',$,$,#67727,#67823,'5D0903EC-02FE-4DE0-98-05-1D4D15974A41',$), #75347=IfcWallStandardCase('3Ttjr$59XEWfWN1WUHjelZ',#12,'Wand-Ext-OG-4',$,$,#75290,#75342,'C0070317-136B-4A93-BD-CC-3B8478F23A5C',$)]\n"
     ]
    }
   ],
   "source": [
    "# Will return #1=IfcWall($,$,$,$,$,$,$,$,$) - notice all of the attributes are blank!\n",
    "new_wall = model.createIfcWall()\n",
    "# Will return a list with our wall in it: [#1=IfcWall($,$,$,$,$,$,$,$,$)]\n",
    "print(model.by_type('IfcWall'))"
   ]
  },
  {
   "cell_type": "code",
   "execution_count": 22,
   "id": "ad7417e9-0eff-42b6-af6b-ce17e7433cc4",
   "metadata": {},
   "outputs": [
    {
     "data": {
      "text/plain": [
       "#79109=IfcWall($,$,$,$,$,$,$,$,$)"
      ]
     },
     "execution_count": 22,
     "metadata": {},
     "output_type": "execute_result"
    }
   ],
   "source": [
    "model.create_entity('IfcWall')"
   ]
  },
  {
   "cell_type": "code",
   "execution_count": 23,
   "id": "8a0b8e93-9af7-45da-8aa6-a74575af3333",
   "metadata": {},
   "outputs": [
    {
     "data": {
      "text/plain": [
       "#79110=IfcWall('2BMhx7aw15RQ6fo2z5EbV5',$,$,$,$,$,$,$,$)"
      ]
     },
     "execution_count": 23,
     "metadata": {},
     "output_type": "execute_result"
    }
   ],
   "source": [
    "# Gives us #1=IfcWall('0EI0MSHbX9gg8Fxwar7lL8',$,$,$,$,$,$,$,$)\n",
    "model.create_entity('IfcWall', ifcopenshell.guid.new())"
   ]
  },
  {
   "cell_type": "code",
   "execution_count": 24,
   "id": "6285223c-cadb-44f6-b181-c8311469fb29",
   "metadata": {},
   "outputs": [
    {
     "data": {
      "text/plain": [
       "#79111=IfcWall('3eujY50M11ZfPDG_VeRyc7',$,'Wall Name',$,$,$,$,$,$)"
      ]
     },
     "execution_count": 24,
     "metadata": {},
     "output_type": "execute_result"
    }
   ],
   "source": [
    "data = {\n",
    "    'GlobalId': ifcopenshell.guid.new(),\n",
    "    'Name': 'Wall Name'\n",
    "}\n",
    "model.create_entity('IfcWall', **data)"
   ]
  },
  {
   "cell_type": "code",
   "execution_count": 25,
   "id": "819dbd6e-3e03-47d2-ac15-ee0c61d06157",
   "metadata": {},
   "outputs": [],
   "source": [
    "wall = model.createIfcWall()\n",
    "wall.OwnerHistory = model.createIfcOwnerHistory()"
   ]
  },
  {
   "cell_type": "code",
   "execution_count": 26,
   "id": "b327032d-78b3-4d44-ab62-b2b5569ae95b",
   "metadata": {},
   "outputs": [],
   "source": [
    "model.remove(wall)"
   ]
  },
  {
   "cell_type": "code",
   "execution_count": null,
   "id": "1ba55d63-7259-467c-8cc1-7d5a4f598fb2",
   "metadata": {},
   "outputs": [],
   "source": []
  }
 ],
 "metadata": {
  "kernelspec": {
   "display_name": "Python 3 (ipykernel)",
   "language": "python",
   "name": "python3"
  },
  "language_info": {
   "codemirror_mode": {
    "name": "ipython",
    "version": 3
   },
   "file_extension": ".py",
   "mimetype": "text/x-python",
   "name": "python",
   "nbconvert_exporter": "python",
   "pygments_lexer": "ipython3",
   "version": "3.11.4"
  }
 },
 "nbformat": 4,
 "nbformat_minor": 5
}
