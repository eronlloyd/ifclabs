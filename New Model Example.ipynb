{
 "cells": [
  {
   "cell_type": "code",
   "execution_count": 1,
   "id": "23b19649-7ab3-4b3e-8a7b-a3927ee3e08a",
   "metadata": {},
   "outputs": [],
   "source": [
    "import ifcopenshell"
   ]
  },
  {
   "cell_type": "code",
   "execution_count": 3,
   "id": "432bb679-1759-4a43-b303-0bbd5da34a45",
   "metadata": {},
   "outputs": [],
   "source": [
    "import ifcopenshell.api.root\n",
    "import ifcopenshell.api.unit\n",
    "import ifcopenshell.api.context\n",
    "import ifcopenshell.api.project\n",
    "import ifcopenshell.api.spatial\n",
    "import ifcopenshell.api.geometry\n",
    "import ifcopenshell.api.aggregate\n",
    "\n",
    "# Create a blank model\n",
    "model = ifcopenshell.api.project.create_file()\n",
    "\n",
    "# All projects must have one IFC Project element\n",
    "project = ifcopenshell.api.root.create_entity(model, ifc_class=\"IfcProject\", name=\"My Project\")\n",
    "\n",
    "# Geometry is optional in IFC, but because we want to use geometry in this example, let's define units\n",
    "# Assigning without arguments defaults to metric units\n",
    "ifcopenshell.api.unit.assign_unit(model)\n",
    "\n",
    "# Let's create a modeling geometry context, so we can store 3D geometry (note: IFC supports 2D too!)\n",
    "context = ifcopenshell.api.context.add_context(model, context_type=\"Model\")\n",
    "\n",
    "# In particular, in this example we want to store the 3D \"body\" geometry of objects, i.e. the body shape\n",
    "body = ifcopenshell.api.context.add_context(model, context_type=\"Model\",\n",
    "    context_identifier=\"Body\", target_view=\"MODEL_VIEW\", parent=context)\n",
    "\n",
    "# Create a site, building, and storey. Many hierarchies are possible.\n",
    "site = ifcopenshell.api.root.create_entity(model, ifc_class=\"IfcSite\", name=\"My Site\")\n",
    "building = ifcopenshell.api.root.create_entity(model, ifc_class=\"IfcBuilding\", name=\"Building A\")\n",
    "storey = ifcopenshell.api.root.create_entity(model, ifc_class=\"IfcBuildingStorey\", name=\"Ground Floor\")\n",
    "\n",
    "# Since the site is our top level location, assign it to the project\n",
    "# Then place our building on the site, and our storey in the building\n",
    "ifcopenshell.api.aggregate.assign_object(model, relating_object=project, products=[site])\n",
    "ifcopenshell.api.aggregate.assign_object(model, relating_object=site, products=[building])\n",
    "ifcopenshell.api.aggregate.assign_object(model, relating_object=building, products=[storey])\n",
    "\n",
    "# Let's create a new wall\n",
    "wall = ifcopenshell.api.root.create_entity(model, ifc_class=\"IfcWall\")\n",
    "\n",
    "# Give our wall a local origin at (0, 0, 0)\n",
    "ifcopenshell.api.geometry.edit_object_placement(model, product=wall)\n",
    "\n",
    "# Add a new wall-like body geometry, 5 meters long, 3 meters high, and 200mm thick\n",
    "representation = ifcopenshell.api.geometry.add_wall_representation(model, context=body, length=5, height=3, thickness=0.2)\n",
    "# Assign our new body geometry back to our wall\n",
    "ifcopenshell.api.geometry.assign_representation(model, product=wall, representation=representation)\n",
    "\n",
    "# Place our wall in the ground floor\n",
    "ifcopenshell.api.spatial.assign_container(model, relating_structure=storey, products=[wall])\n",
    "\n",
    "# Write out to a file\n",
    "model.write(\"model.ifc\")"
   ]
  },
  {
   "cell_type": "code",
   "execution_count": null,
   "id": "1c82848c-c9b8-49ac-831b-949bdf43ab5a",
   "metadata": {},
   "outputs": [],
   "source": []
  }
 ],
 "metadata": {
  "kernelspec": {
   "display_name": "Python 3 (ipykernel)",
   "language": "python",
   "name": "python3"
  },
  "language_info": {
   "codemirror_mode": {
    "name": "ipython",
    "version": 3
   },
   "file_extension": ".py",
   "mimetype": "text/x-python",
   "name": "python",
   "nbconvert_exporter": "python",
   "pygments_lexer": "ipython3",
   "version": "3.11.4"
  }
 },
 "nbformat": 4,
 "nbformat_minor": 5
}
