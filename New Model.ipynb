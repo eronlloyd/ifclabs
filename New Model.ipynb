{
 "cells": [
  {
   "cell_type": "code",
   "execution_count": 4,
   "id": "3e6b7a12-61dd-49d6-9150-9297247d2a61",
   "metadata": {},
   "outputs": [],
   "source": [
    "# Missing dependencies: bpy mathutils\n",
    "import ifcopenshell\n",
    "from ifcopenshell.api import root, unit, context, project, spatial, geometry, aggregate"
   ]
  },
  {
   "cell_type": "code",
   "execution_count": 5,
   "id": "098a8786-5050-44e1-88cf-870d7993638c",
   "metadata": {},
   "outputs": [],
   "source": [
    "# Create a blank model\n",
    "model = ifcopenshell.api.project.create_file()"
   ]
  },
  {
   "cell_type": "code",
   "execution_count": 6,
   "id": "d19523de-a2d9-46fc-9b1d-35a7aa3f6f8e",
   "metadata": {},
   "outputs": [],
   "source": [
    "# All projects must have one IFC Project element\n",
    "project = ifcopenshell.api.root.create_entity(model, ifc_class=\"IfcProject\", name=\"My Project\")"
   ]
  },
  {
   "cell_type": "code",
   "execution_count": 7,
   "id": "a4282504-fc97-4c1f-ab04-46858475adcb",
   "metadata": {},
   "outputs": [
    {
     "data": {
      "text/plain": [
       "<ifcopenshell.file.file at 0x10c57ecd0>"
      ]
     },
     "execution_count": 7,
     "metadata": {},
     "output_type": "execute_result"
    }
   ],
   "source": [
    "model"
   ]
  },
  {
   "cell_type": "code",
   "execution_count": 8,
   "id": "19e75c87-5fcd-4daa-b91d-a8bd6494b1e3",
   "metadata": {},
   "outputs": [
    {
     "data": {
      "text/plain": [
       "#5=IfcUnitAssignment((#3,#4,#2))"
      ]
     },
     "execution_count": 8,
     "metadata": {},
     "output_type": "execute_result"
    }
   ],
   "source": [
    "# Geometry is optional in IFC, but because we want to use geometry in this example, let's define units\n",
    "# Assigning without arguments defaults to metric units\n",
    "ifcopenshell.api.unit.assign_unit(model)"
   ]
  },
  {
   "cell_type": "code",
   "execution_count": 9,
   "id": "58c9fcf1-8c38-4b47-b800-bb7791955ed0",
   "metadata": {},
   "outputs": [],
   "source": [
    "# Let's create a modeling geometry context, so we can store 3D geometry (note: IFC supports 2D too!)\n",
    "context = ifcopenshell.api.context.add_context(model, context_type=\"Model\")"
   ]
  },
  {
   "cell_type": "code",
   "execution_count": 10,
   "id": "d1d2f834-0c20-45ec-b64c-3bc5f155ba37",
   "metadata": {},
   "outputs": [],
   "source": [
    "# In particular, in this example we want to store the 3D \"body\" geometry of objects, i.e. the body shape\n",
    "body = ifcopenshell.api.context.add_context(model, context_type=\"Model\",\n",
    "    context_identifier=\"Body\", target_view=\"MODEL_VIEW\", parent=context)"
   ]
  },
  {
   "cell_type": "code",
   "execution_count": 11,
   "id": "6d1a0e30-266f-45d3-8f87-3fad05b5aea8",
   "metadata": {},
   "outputs": [],
   "source": [
    "# Create a site, building, and storey. Many hierarchies are possible.\n",
    "site = ifcopenshell.api.root.create_entity(model, ifc_class=\"IfcSite\", name=\"My Site\")\n",
    "building = ifcopenshell.api.root.create_entity(model, ifc_class=\"IfcBuilding\", name=\"Building A\")\n",
    "storey = ifcopenshell.api.root.create_entity(model, ifc_class=\"IfcBuildingStorey\", name=\"Ground Floor\")"
   ]
  },
  {
   "cell_type": "code",
   "execution_count": 12,
   "id": "f238114a-0a83-4ed9-a3b6-a8b08197b0d3",
   "metadata": {},
   "outputs": [
    {
     "data": {
      "text/plain": [
       "#17=IfcRelAggregates('0o7$ljuljDpQGvSMkF8SRf',$,$,$,#13,(#14))"
      ]
     },
     "execution_count": 12,
     "metadata": {},
     "output_type": "execute_result"
    }
   ],
   "source": [
    "# Since the site is our top level location, assign it to the project\n",
    "# Then place our building on the site, and our storey in the building\n",
    "ifcopenshell.api.aggregate.assign_object(model, relating_object=project, products=[site])\n",
    "ifcopenshell.api.aggregate.assign_object(model, relating_object=site, products=[building])\n",
    "ifcopenshell.api.aggregate.assign_object(model, relating_object=building, products=[storey])"
   ]
  },
  {
   "cell_type": "code",
   "execution_count": 13,
   "id": "517f16a0-2780-47ff-91e9-e5155a8a7067",
   "metadata": {},
   "outputs": [],
   "source": [
    "# Let's create a new wall\n",
    "wall = ifcopenshell.api.root.create_entity(model, ifc_class=\"IfcWall\")"
   ]
  },
  {
   "cell_type": "code",
   "execution_count": 14,
   "id": "559ae158-63f4-4056-928e-d43bc3bdbf04",
   "metadata": {},
   "outputs": [
    {
     "data": {
      "text/plain": [
       "#23=IfcLocalPlacement($,#22)"
      ]
     },
     "execution_count": 14,
     "metadata": {},
     "output_type": "execute_result"
    }
   ],
   "source": [
    "# Give our wall a local origin at (0, 0, 0)\n",
    "ifcopenshell.api.geometry.edit_object_placement(model, product=wall)"
   ]
  },
  {
   "cell_type": "code",
   "execution_count": 15,
   "id": "519cc5dd-50fa-4271-b347-86b6d3bea763",
   "metadata": {},
   "outputs": [],
   "source": [
    "# Add a new wall-like body geometry, 5 meters long, 3 meters high, and 200mm thick\n",
    "representation = ifcopenshell.api.geometry.add_wall_representation(model, context=body, length=5, height=3, thickness=0.2)\n",
    "# Assign our new body geometry back to our wall\n",
    "ifcopenshell.api.geometry.assign_representation(model, product=wall, representation=representation)"
   ]
  },
  {
   "cell_type": "code",
   "execution_count": null,
   "id": "43772336-87dc-4e02-ba1b-6b90a689a637",
   "metadata": {},
   "outputs": [],
   "source": []
  }
 ],
 "metadata": {
  "kernelspec": {
   "display_name": "Python 3 (ipykernel)",
   "language": "python",
   "name": "python3"
  },
  "language_info": {
   "codemirror_mode": {
    "name": "ipython",
    "version": 3
   },
   "file_extension": ".py",
   "mimetype": "text/x-python",
   "name": "python",
   "nbconvert_exporter": "python",
   "pygments_lexer": "ipython3",
   "version": "3.11.4"
  }
 },
 "nbformat": 4,
 "nbformat_minor": 5
}
